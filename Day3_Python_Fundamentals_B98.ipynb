{
 "cells": [
  {
   "cell_type": "code",
   "execution_count": null,
   "id": "3c59c6f7-32db-41cc-813f-fb0468bdd800",
   "metadata": {},
   "outputs": [],
   "source": [
    "Continuation with string datatypes:"
   ]
  },
  {
   "cell_type": "code",
   "execution_count": null,
   "id": "76688f4a-d575-4239-a815-e7d5e338376a",
   "metadata": {},
   "outputs": [],
   "source": [
    "understanding string methods in today's class:"
   ]
  },
  {
   "cell_type": "code",
   "execution_count": 2,
   "id": "7630381d-12fe-41c5-aa00-9389ed264ccf",
   "metadata": {},
   "outputs": [
    {
     "name": "stdout",
     "output_type": "stream",
     "text": [
      "dinesh\n"
     ]
    }
   ],
   "source": [
    "name = \"dinesh\"\n",
    "print(name)"
   ]
  },
  {
   "cell_type": "code",
   "execution_count": 3,
   "id": "57466622-4196-4eaf-846c-bfcb8b91eac9",
   "metadata": {},
   "outputs": [
    {
     "data": {
      "text/plain": [
       "str"
      ]
     },
     "execution_count": 3,
     "metadata": {},
     "output_type": "execute_result"
    }
   ],
   "source": [
    "type(name)"
   ]
  },
  {
   "cell_type": "code",
   "execution_count": null,
   "id": "dc78db4e-d4bd-4172-8695-51595c807826",
   "metadata": {},
   "outputs": [],
   "source": []
  },
  {
   "cell_type": "code",
   "execution_count": 4,
   "id": "38995f70-ec31-42b2-b23f-b884b0cfbf3f",
   "metadata": {},
   "outputs": [
    {
     "name": "stdout",
     "output_type": "stream",
     "text": [
      "dinesh sahu\n"
     ]
    }
   ],
   "source": [
    "fullname = \"dinesh sahu\"\n",
    "print(fullname)"
   ]
  },
  {
   "cell_type": "code",
   "execution_count": 5,
   "id": "ff6b1959-cc91-453f-8ebe-813da80d5c28",
   "metadata": {},
   "outputs": [
    {
     "name": "stdout",
     "output_type": "stream",
     "text": [
      "Dinesh Sahu\n"
     ]
    }
   ],
   "source": [
    "print(fullname.title())   #here we used \"title\" method to get ouput in diciplane mannar."
   ]
  },
  {
   "cell_type": "code",
   "execution_count": null,
   "id": "d27b5cb4-62b4-4b11-8c36-de6f4d1490e2",
   "metadata": {},
   "outputs": [],
   "source": []
  },
  {
   "cell_type": "code",
   "execution_count": null,
   "id": "1146fc06-2beb-415a-bad2-0cc85e1265e1",
   "metadata": {},
   "outputs": [],
   "source": [
    "# i want to get fullname in the capital letters :"
   ]
  },
  {
   "cell_type": "code",
   "execution_count": 6,
   "id": "78de3813-bb29-4a81-ac9a-d33309d4b83a",
   "metadata": {},
   "outputs": [
    {
     "name": "stdout",
     "output_type": "stream",
     "text": [
      "DINESH SAHU\n"
     ]
    }
   ],
   "source": [
    "print(fullname.upper()) #here we used \"upper\" method"
   ]
  },
  {
   "cell_type": "code",
   "execution_count": null,
   "id": "1762c5f2-ae25-4147-ad3d-6da1e9882d6f",
   "metadata": {},
   "outputs": [],
   "source": []
  },
  {
   "cell_type": "code",
   "execution_count": null,
   "id": "3e0382e5-3799-4fea-b8fd-9a71ec68cff0",
   "metadata": {},
   "outputs": [],
   "source": [
    "# i want to get the fullname in \"lower\" letters :"
   ]
  },
  {
   "cell_type": "code",
   "execution_count": 7,
   "id": "dd074628-0920-4d61-81dc-6dc476379a32",
   "metadata": {},
   "outputs": [
    {
     "name": "stdout",
     "output_type": "stream",
     "text": [
      "dinesh sahu\n"
     ]
    }
   ],
   "source": [
    "print(fullname.lower())"
   ]
  },
  {
   "cell_type": "code",
   "execution_count": null,
   "id": "a08b0fdc-5437-44b8-87db-37746e92535e",
   "metadata": {},
   "outputs": [],
   "source": []
  },
  {
   "cell_type": "code",
   "execution_count": null,
   "id": "c2d0af91-b7d9-4c89-8276-10f4ef7b5fd0",
   "metadata": {},
   "outputs": [],
   "source": [
    "Introduction to f strings:"
   ]
  },
  {
   "cell_type": "code",
   "execution_count": null,
   "id": "9cb6f1c8-8712-4555-82e6-080437d08937",
   "metadata": {},
   "outputs": [],
   "source": [
    "f\"custom_message {placeholder1} {placeholder2}.............{placeholdern}\""
   ]
  },
  {
   "cell_type": "code",
   "execution_count": null,
   "id": "f53d3430-19f4-44b6-8439-6a66084b5a0b",
   "metadata": {},
   "outputs": [],
   "source": []
  },
  {
   "cell_type": "code",
   "execution_count": null,
   "id": "312d45e0-cc89-420c-8997-1efa12df9fae",
   "metadata": {},
   "outputs": [],
   "source": [
    "firstname = \"sana\"\n",
    "lastname = \"kauser\""
   ]
  },
  {
   "cell_type": "code",
   "execution_count": null,
   "id": "6d13bfc5-9161-4877-a453-a5467c564e4c",
   "metadata": {},
   "outputs": [],
   "source": [
    "# i want to get the fullname here including firstname and lastname :"
   ]
  },
  {
   "cell_type": "code",
   "execution_count": 10,
   "id": "ec57786b-1d3e-4064-aa7e-d96618808495",
   "metadata": {},
   "outputs": [
    {
     "ename": "NameError",
     "evalue": "name 'firstname' is not defined",
     "output_type": "error",
     "traceback": [
      "\u001b[1;31m---------------------------------------------------------------------------\u001b[0m",
      "\u001b[1;31mNameError\u001b[0m                                 Traceback (most recent call last)",
      "Cell \u001b[1;32mIn[10], line 1\u001b[0m\n\u001b[1;32m----> 1\u001b[0m fullname \u001b[38;5;241m=\u001b[39m \u001b[38;5;124mf\u001b[39m\u001b[38;5;124m\"\u001b[39m\u001b[38;5;132;01m{\u001b[39;00mfirstname\u001b[38;5;132;01m}\u001b[39;00m\u001b[38;5;124m \u001b[39m\u001b[38;5;132;01m{\u001b[39;00mlastname\u001b[38;5;132;01m}\u001b[39;00m\u001b[38;5;124m\"\u001b[39m\n\u001b[0;32m      2\u001b[0m \u001b[38;5;28mprint\u001b[39m(fullname)\n",
      "\u001b[1;31mNameError\u001b[0m: name 'firstname' is not defined"
     ]
    }
   ],
   "source": [
    "fullname = f\"{firstname} {lastname}\"\n",
    "print(fullname)"
   ]
  },
  {
   "cell_type": "code",
   "execution_count": null,
   "id": "fe8a81eb-8950-4a76-99c9-8896ba9f740e",
   "metadata": {},
   "outputs": [],
   "source": [
    "fullname = f\"{firstname} {lastname}\""
   ]
  },
  {
   "cell_type": "code",
   "execution_count": 11,
   "id": "fe419523-c056-4fff-a38a-34c7e3877634",
   "metadata": {},
   "outputs": [
    {
     "name": "stdout",
     "output_type": "stream",
     "text": [
      "dinesh sahu\n"
     ]
    }
   ],
   "source": [
    "print(fullname)"
   ]
  },
  {
   "cell_type": "code",
   "execution_count": 12,
   "id": "22da83bb-0ef9-48cd-8701-5fce3af8aeb8",
   "metadata": {},
   "outputs": [
    {
     "name": "stdout",
     "output_type": "stream",
     "text": [
      "sana kauser\n"
     ]
    }
   ],
   "source": [
    "firstname = \"sana\"\n",
    "lastname = \"kauser\"\n",
    "fullname = f\"{firstname} {lastname}\"\n",
    "print(fullname)"
   ]
  },
  {
   "cell_type": "code",
   "execution_count": null,
   "id": "965191cb-4eda-442b-8750-2c9c43a6674d",
   "metadata": {},
   "outputs": [],
   "source": []
  },
  {
   "cell_type": "code",
   "execution_count": 14,
   "id": "72966169-9bac-47b2-af06-51805c862607",
   "metadata": {},
   "outputs": [
    {
     "name": "stdout",
     "output_type": "stream",
     "text": [
      "keep up the good work, sana kauser\n"
     ]
    }
   ],
   "source": [
    "message = f\"keep up the good work, {fullname}\"\n",
    "print(message)"
   ]
  },
  {
   "cell_type": "markdown",
   "id": "8335d94a-2460-4743-aca0-916249813892",
   "metadata": {},
   "source": []
  },
  {
   "cell_type": "code",
   "execution_count": 15,
   "id": "41c4846a-348c-4d8c-b5f0-7ba25adc7854",
   "metadata": {},
   "outputs": [
    {
     "name": "stdout",
     "output_type": "stream",
     "text": [
      "keep up the good work, sana kauser\n"
     ]
    }
   ],
   "source": [
    "messgae = f\"keep up the good work, {fullname.title()}\"\n",
    "print(message)"
   ]
  },
  {
   "cell_type": "code",
   "execution_count": null,
   "id": "8bcecb77-eaba-49fa-a0ed-c3f7541f100a",
   "metadata": {},
   "outputs": [],
   "source": []
  },
  {
   "cell_type": "code",
   "execution_count": 16,
   "id": "20144216-00e0-4e09-bd12-36ce3c6b7d66",
   "metadata": {},
   "outputs": [],
   "source": [
    "# Adding whitespaces to strings : "
   ]
  },
  {
   "cell_type": "raw",
   "id": "51169573-3309-4e15-979d-8e9a2519447a",
   "metadata": {},
   "source": [
    "print(\"favourite_Programing:Pythonjavac++javascriptswift\")"
   ]
  },
  {
   "cell_type": "code",
   "execution_count": 17,
   "id": "8a43ca55-b28a-44fb-b15b-d6112395b0b0",
   "metadata": {},
   "outputs": [
    {
     "name": "stdout",
     "output_type": "stream",
     "text": [
      "favourite_Programing:Pythonjavac++javascriptswift\n"
     ]
    }
   ],
   "source": [
    "print(\"favourite_Programing:Pythonjavac++javascriptswift\")"
   ]
  },
  {
   "cell_type": "code",
   "execution_count": 18,
   "id": "18eff947-49f7-445e-8ea7-1ce3fcd1b59b",
   "metadata": {},
   "outputs": [
    {
     "name": "stdout",
     "output_type": "stream",
     "text": [
      "favourite_programming:\n",
      "python\n",
      "java\n",
      "c++\n",
      "javascript\n",
      "swift\n"
     ]
    }
   ],
   "source": [
    "print(\"favourite_programming:\\npython\\njava\\nc++\\njavascript\\nswift\")"
   ]
  },
  {
   "cell_type": "raw",
   "id": "fc87bc18-c63c-4b0c-be99-17dadf8bcda1",
   "metadata": {},
   "source": [
    "# on above we used \\n to get variables in seperate lines. \\n ==> Indicates new line"
   ]
  },
  {
   "cell_type": "code",
   "execution_count": 19,
   "id": "3dddb126-f9f1-4bb0-9839-489925f2ed24",
   "metadata": {},
   "outputs": [
    {
     "name": "stdout",
     "output_type": "stream",
     "text": [
      "favourite_programing:\n",
      "\tpython\n",
      "\tjava\n",
      "\tc++\n",
      "\tjavascript\n",
      "\tswift\n"
     ]
    }
   ],
   "source": [
    "print(\"favourite_programing:\\n\\tpython\\n\\tjava\\n\\tc++\\n\\tjavascript\\n\\tswift\")"
   ]
  },
  {
   "cell_type": "code",
   "execution_count": null,
   "id": "970a27e6-408b-4dc1-95bb-b9c4ea59dd75",
   "metadata": {},
   "outputs": [],
   "source": [
    "# here we used \\t ==> to get a tab delimeter"
   ]
  },
  {
   "cell_type": "code",
   "execution_count": 20,
   "id": "29299337-16dd-4beb-a51a-6473b12b1caa",
   "metadata": {},
   "outputs": [
    {
     "name": "stdout",
     "output_type": "stream",
     "text": [
      "favourite_programing:\n",
      "\tpython\n",
      "\tjava\n",
      "\tc++\n",
      "\tjavascript\n",
      "\tswift.title()\n"
     ]
    }
   ],
   "source": [
    "print(\"favourite_programing:\\n\\tpython\\n\\tjava\\n\\tc++\\n\\tjavascript\\n\\tswift.title()\")"
   ]
  },
  {
   "cell_type": "code",
   "execution_count": null,
   "id": "caa41f7e-9a42-4ec6-a972-7f029da3f3e2",
   "metadata": {},
   "outputs": [],
   "source": []
  },
  {
   "cell_type": "code",
   "execution_count": 21,
   "id": "1637bfd7-10f3-4dcf-bc5a-61e23e94d6d9",
   "metadata": {},
   "outputs": [
    {
     "name": "stdout",
     "output_type": "stream",
     "text": [
      "Favourite_Programing:\n",
      "\tPython\n",
      "\tJava\n",
      "\tC++\n",
      "\tJavascript\n",
      "\tSwift\n"
     ]
    }
   ],
   "source": [
    "print(\"favourite_programing:\\n\\tpython\\n\\tjava\\n\\tc++\\n\\tjavascript\\n\\tswift\".title())"
   ]
  },
  {
   "cell_type": "code",
   "execution_count": null,
   "id": "cef7e870-3243-43e7-8078-e74adfe5bc13",
   "metadata": {},
   "outputs": [],
   "source": [
    "# here I used ."
   ]
  },
  {
   "cell_type": "code",
   "execution_count": null,
   "id": "c5b21539-3e00-48c5-9ead-56c2cfd00bb9",
   "metadata": {},
   "outputs": [],
   "source": []
  },
  {
   "cell_type": "code",
   "execution_count": null,
   "id": "b96f80d6-6ea5-47c0-a789-4a8e56f0cdec",
   "metadata": {},
   "outputs": [],
   "source": []
  },
  {
   "cell_type": "code",
   "execution_count": null,
   "id": "e203a89e-fef1-4914-8df6-bcbe6ed07680",
   "metadata": {},
   "outputs": [],
   "source": []
  },
  {
   "cell_type": "code",
   "execution_count": null,
   "id": "03b6c11d-1757-4cf0-87d2-672773bdc571",
   "metadata": {},
   "outputs": [],
   "source": []
  },
  {
   "cell_type": "code",
   "execution_count": null,
   "id": "3344ff2d-3ae6-49d4-9fcf-1c8dfc68da60",
   "metadata": {},
   "outputs": [],
   "source": []
  },
  {
   "cell_type": "code",
   "execution_count": null,
   "id": "d71bc2e8-5449-4533-b566-cb9874d244b0",
   "metadata": {},
   "outputs": [],
   "source": []
  },
  {
   "cell_type": "code",
   "execution_count": null,
   "id": "3aca0a5b-9d8a-4162-adb0-c8b27031c379",
   "metadata": {},
   "outputs": [],
   "source": []
  },
  {
   "cell_type": "code",
   "execution_count": null,
   "id": "074f1832-52c4-4256-a84e-2ea11d4456dd",
   "metadata": {},
   "outputs": [],
   "source": []
  },
  {
   "cell_type": "code",
   "execution_count": null,
   "id": "5fc28458-e381-44b2-8165-c354facbbfeb",
   "metadata": {},
   "outputs": [],
   "source": []
  },
  {
   "cell_type": "code",
   "execution_count": null,
   "id": "daa6e3f7-bde6-419c-9c67-0dabbc5a4982",
   "metadata": {},
   "outputs": [],
   "source": []
  }
 ],
 "metadata": {
  "kernelspec": {
   "display_name": "Python [conda env:base] *",
   "language": "python",
   "name": "conda-base-py"
  },
  "language_info": {
   "codemirror_mode": {
    "name": "ipython",
    "version": 3
   },
   "file_extension": ".py",
   "mimetype": "text/x-python",
   "name": "python",
   "nbconvert_exporter": "python",
   "pygments_lexer": "ipython3",
   "version": "3.13.5"
  }
 },
 "nbformat": 4,
 "nbformat_minor": 5
}
